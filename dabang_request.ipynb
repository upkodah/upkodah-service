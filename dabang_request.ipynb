{
  "nbformat": 4,
  "nbformat_minor": 0,
  "metadata": {
    "colab": {
      "name": "dabang_request.ipynb",
      "provenance": [],
      "collapsed_sections": [],
      "authorship_tag": "ABX9TyPUTnqNS41YqZRlOU5ZkW86",
      "include_colab_link": true
    },
    "kernelspec": {
      "name": "python3",
      "display_name": "Python 3"
    }
  },
  "cells": [
    {
      "cell_type": "markdown",
      "metadata": {
        "id": "view-in-github",
        "colab_type": "text"
      },
      "source": [
        "<a href=\"https://colab.research.google.com/github/upkodah/upkodah-service/blob/Dalci-patch-1/dabang_request.ipynb\" target=\"_parent\"><img src=\"https://colab.research.google.com/assets/colab-badge.svg\" alt=\"Open In Colab\"/></a>"
      ]
    },
    {
      "cell_type": "code",
      "metadata": {
        "id": "aT8LQcj5Dx4Y"
      },
      "source": [
        "from bs4 import BeautifulSoup\n",
        "import requests\n",
        "#import json\n",
        "\n",
        "'''\n",
        "  1. 서울 전역에 대하여 multi-room 요청을 수행하여 전체 정보를 받아온다.\n",
        "'''\n",
        "# 서울 전역에 대한 multi-room 요청(primitive_request) - 나중에 정리\n",
        "primitive_request_multiroom = \"https://www.dabangapp.com/api/3/marker/multi-room?api_version=3.0.1&call_type=web&filters=%7B%22multi_room_type%22%3A%5B0%5D%2C%22selling_type%22%3A%5B0%2C1%5D%2C%22deposit_range%22%3A%5B0%2C999999%5D%2C%22price_range%22%3A%5B0%2C999999%5D%2C%22trade_range%22%3A%5B0%2C999999%5D%2C%22maintenance_cost_range%22%3A%5B0%2C999999%5D%2C%22room_size%22%3A%5B0%2C999999%5D%2C%22supply_space_range%22%3A%5B0%2C999999%5D%2C%22room_floor_multi%22%3A%5B1%2C2%2C3%2C4%2C5%2C6%2C7%2C-1%2C0%5D%2C%22division%22%3Afalse%2C%22duplex%22%3Afalse%2C%22room_type%22%3A%5B1%2C2%5D%2C%22enter_date_range%22%3A%5B0%2C999999%5D%2C%22parking_average_range%22%3A%5B0%2C999999%5D%2C%22household_num_range%22%3A%5B0%2C999999%5D%2C%22parking%22%3Afalse%2C%22animal%22%3Afalse%2C%22short_lease%22%3Afalse%2C%22full_option%22%3Afalse%2C%22built_in%22%3Afalse%2C%22elevator%22%3Afalse%2C%22balcony%22%3Afalse%2C%22loan%22%3Afalse%2C%22safety%22%3Afalse%2C%22pano%22%3Afalse%2C%22deal_type%22%3A%5B0%2C1%5D%7D&location=%5B%5B126.8884562%2C37.4968543%5D%2C%5B127.1093844%2C37.6232711%5D%5D&use_map=kakao&version=1&zoom=7\"\n",
        "\n",
        "# multi-rooom 요청의 json 파일\n",
        "json_multiroom = requests.get(primitive_request_multiroom).json()"
      ],
      "execution_count": 9,
      "outputs": []
    },
    {
      "cell_type": "code",
      "metadata": {
        "id": "n4Db8uPMTXyZ",
        "outputId": "9f7f5e5f-10b9-4633-b2a1-34764edfae2f",
        "colab": {
          "base_uri": "https://localhost:8080/"
        }
      },
      "source": [
        "# multi-room JSON 필드 테스트 1 - 키 출력\n",
        "multiroom_field = list()\n",
        "for i in json_multiroom:\n",
        "  multiroom_field.append(i)\n",
        "print(\"multi-room fields: \", multiroom_field)"
      ],
      "execution_count": 30,
      "outputs": [
        {
          "output_type": "stream",
          "text": [
            "multi-room fields:  ['regions', 'subways', 'univs', 'cctv', 'police', 'safety', 'agents', 'contracts', 'center', 'is_agent_list_zoom']\n"
          ],
          "name": "stdout"
        }
      ]
    },
    {
      "cell_type": "code",
      "metadata": {
        "id": "9euksLuZRuZr"
      },
      "source": [
        "# multi-room JSON 필드 테스트 2 - 동별 좌표 목록 출력\n",
        "# JSON regions 필드의 내용들; dong\n",
        "regions = json_multiroom['regions']\n",
        "for regions_content in regions:\n",
        "  print(\"name: \", regions_content['name'], \", bbox: \", regions_content['bbox'])"
      ],
      "execution_count": null,
      "outputs": []
    },
    {
      "cell_type": "code",
      "metadata": {
        "id": "nFdOo5WfIbHF",
        "outputId": "726c1679-8958-410a-df31-2847784f2d16",
        "colab": {
          "base_uri": "https://localhost:8080/"
        }
      },
      "source": [
        "'''\n",
        "  2. bbox로 지역 단위를 구분하여 저장하고(json parsing), bbox 요청을 수행한다.\n",
        "  \n",
        "  url: https://www.dabangapp.com/api/3/room/list/multi-room/bbox?\n",
        "  params: 딕셔너리를 구성하여 requests.get으로 넘겨 줍니다.\n",
        "    'api_version':'3.0.1',\n",
        "    'call_type':'web',\n",
        "    'filters':bbox_filters_str,\n",
        "    'page':var_page, \n",
        "    'usemap': 'kakao', \n",
        "    'version':1, \n",
        "    'zoom': 6, \n",
        "    'location':var_location\n",
        "\n",
        "'''\n",
        "## query string 작성\n",
        "# 원본 URL\n",
        "bbox_url = 'https://www.dabangapp.com/api/3/room/list/multi-room/bbox?'\n",
        "\n",
        "# param: filters\n",
        "'''\n",
        "    \"multi_room_type\":[0],   \"selling_type\":[0,1], \"deposit_range\":[0,999999],\n",
        "    \"price_range\":[0,999999], \"trade_range\":[0,999999], \"maintenance_cost_range\":[0,999999],\n",
        "    \"room_size\":[0,999999], \"supply_space_range\":[0,999999], \"room_floor_multi\":[1,2,3,4,5,6,7,-,0],\n",
        "    \"division\":false, \"duplex\":false, \"room_type\":[], \"enter_date_range\":[0,999999],\n",
        "    \"parking_average_range\":[0,999999], \"household_num_range\":[0,999999],\n",
        "    \"parking\":false, \"animal\":false, \"short_lease\":false, \"full_option\":false,\n",
        "    \"built_in\":false, \"elevator\":false, \"balcony\":false,\n",
        "    \"loan\":false, \"safety\":false, \"pano\":false, \"deal_type\":[0,1]}\n",
        "'''\n",
        "\n",
        "bbox_filters = []\n",
        "bbox_filters.append(\"{\\\"multi_room_type\\\":[0], \")                     # 원룸\n",
        "bbox_filters.append(\"\\\"selling_type\\\":[0, 1], \")                      # 월세, 전세\n",
        "bbox_filters.append(\"\\\"deposit_range\\\":[0, 999999], \")                # 보증금\n",
        "bbox_filters.append(\"\\\"price_range\\\":[0, 999999], \")                  # 월세\n",
        "bbox_filters.append(\"\\\"trade_range\\\":[0, 999999], \")                  # 거래가\n",
        "bbox_filters.append(\"\\\"maintenance_cost_range\\\":[0, 999999], \")       # 관리비\n",
        "bbox_filters.append(\"\\\"room_size\\\":[0, 999999], \")                    # 방 크기\n",
        "bbox_filters.append(\"\\\"supply_space_range\\\":[0, 999999], \")           #\n",
        "bbox_filters.append(\"\\\"room_floor_multi\\\":[1,2,3,4,5,6,7,-1,0], \")    #\n",
        "bbox_filters.append(\"\\\"division\\\":false, \")                           #\n",
        "bbox_filters.append(\"\\\"duplex\\\":false, \")                             # 복층\n",
        "bbox_filters.append(\"\\\"room_type\\\":[], \")                             #\n",
        "bbox_filters.append(\"\\\"enter_date_range\\\":[0,999999], \")              # 입주일\n",
        "bbox_filters.append(\"\\\"parking_average_range\\\":[0,999999], \")         #\n",
        "bbox_filters.append(\"\\\"household_num_range\\\":[0,999999], \")           # 세대 수\n",
        "bbox_filters.append(\"\\\"parking\\\":false, \")                            # 주차 가능 여부\n",
        "bbox_filters.append(\"\\\"animal\\\":false, \")                             # 반려 동물 여부\n",
        "bbox_filters.append(\"\\\"short_lease\\\":false, \")                        # 단기 대출\n",
        "bbox_filters.append(\"\\\"full_option\\\":false, \")                        # 풀 옵션\n",
        "bbox_filters.append(\"\\\"built_in\\\":false, \")                           #\n",
        "bbox_filters.append(\"\\\"elevator\\\":false, \")                           # 엘레베이터\n",
        "bbox_filters.append(\"\\\"balcony\\\":false, \")                            # 발코니, 베란다\n",
        "bbox_filters.append(\"\\\"loan\\\":false, \")                               # 대출\n",
        "bbox_filters.append(\"\\\"safety\\\":false, \")                             # 보안\n",
        "bbox_filters.append(\"\\\"pano\\\":false, \")                               # 360도 VR\n",
        "bbox_filters.append(\"\\\"deal_type\\\":[0,1]}\")                           # 거래 유형\n",
        "\n",
        "bbox_filters_str = \"\".join(bbox_filters)\n",
        "# end of filters\n",
        "\n",
        "'''\n",
        " 반복문으로 제어가 필요한 query 인수들: page, location\n",
        "'''\n",
        "# param: page\n",
        "var_page = 1                                                          \n",
        "# param: location\n",
        "var_location = str(regions[0]['bbox'])                                # bbox의 좌표를 string으로 전달합니다\n",
        "\n",
        "# params\n",
        "bbox_params = {'api_version':'3.0.1', 'call_type':'web', 'usemap': 'kakao', 'version':1, 'zoom': 6, 'filters':bbox_filters_str, 'page':var_page, 'location':var_location}\n",
        "## query string 작성\n",
        "\n",
        "# query string\n",
        "request_bbox = requests.get(bbox_url, params=bbox_params)\n",
        "\n",
        "json_bbox = request_bbox.json()\n",
        "print(json_bbox['rooms'][0])                                          # rooms 키 밑의 리스트로 구성되어 있음!\n",
        "                                                  \n"
      ],
      "execution_count": 61,
      "outputs": [
        {
          "output_type": "stream",
          "text": [
            "{'is_favorited': None, 'seq': 16172100, 'id': '5fade41ac5b1a6787838014a', 'user_id': 'whrodzg@hanmail.net', 'status': 1, 'deleted': False, 'name': '조경연', 'title': '신도림 NO.1 아파트뷰 1.5룸 7평이상 전속물건 말이필요없어요', 'room_type': 0, 'location': [126.8967870879152, 37.5053309985632], 'random_location': [126.89685162265677, 37.50526500037477], 'complex_name': None, 'premium_badge': None, 'hash_tags': ['분리형', '주차', '풀옵션', '엘리베이터', '전세자금대출', '보안/안전'], 'room_type_str': '원룸', 'room_desc': '원룸 | 4층 | 23.14m² | 관리비 8만', 'img_url': 'http://d1774jszgerdmk.cloudfront.net/512/08d8ecb2-531f-4786-8b67-ba1670f0bc1b', 'img_urls': ['http://d1774jszgerdmk.cloudfront.net/512/08d8ecb2-531f-4786-8b67-ba1670f0bc1b', 'http://d1774jszgerdmk.cloudfront.net/512/ea1d2520-1ee5-4867-9646-e17739ba80f7', 'http://d1774jszgerdmk.cloudfront.net/512/e12f97ad-52f5-4df9-a48a-7eda4d6a14ee', 'http://d1774jszgerdmk.cloudfront.net/512/9818b9e2-ce9d-49ab-985b-8d3167d46ab0', 'http://d1774jszgerdmk.cloudfront.net/512/34579959-bf89-483b-82ca-01642b0ef58e'], 'is_pano': False, 'price_title': '1억4000', 'selling_type': 1, 'is_confirm': True, 'confirm_type': 0, 'confirm_date_str': '20.11.13', 'is_quick': False, 'is_messenger_actived': True, 'is_extend_ui': False, 'is_new_construction': False}\n"
          ],
          "name": "stdout"
        }
      ]
    },
    {
      "cell_type": "code",
      "metadata": {
        "id": "rGRQLnD15IOm",
        "outputId": "fd4c3e3b-51d7-4563-ff8b-6eac754367a3",
        "colab": {
          "base_uri": "https://localhost:8080/"
        }
      },
      "source": [
        "# bbox JSON 테스트 1  - 필드 출력\n",
        "bbox_field = list()\n",
        "for i in json_bbox['rooms'][0]:\n",
        "  bbox_field.append(i)\n",
        "print(bbox_field)"
      ],
      "execution_count": 55,
      "outputs": [
        {
          "output_type": "stream",
          "text": [
            "['is_favorited', 'seq', 'id', 'user_id', 'status', 'deleted', 'name', 'title', 'room_type', 'location', 'random_location', 'complex_name', 'premium_badge', 'hash_tags', 'room_type_str', 'room_desc', 'img_url', 'img_urls', 'is_pano', 'price_title', 'selling_type', 'is_confirm', 'confirm_type', 'confirm_date_str', 'is_quick', 'is_messenger_actived', 'is_extend_ui', 'is_new_construction']\n"
          ],
          "name": "stdout"
        }
      ]
    },
    {
      "cell_type": "code",
      "metadata": {
        "id": "RGkSgZ_Q40Ul",
        "outputId": "6224a05b-701d-40c5-cf04-548bbfb011bd",
        "colab": {
          "base_uri": "https://localhost:8080/"
        }
      },
      "source": [
        "# bbox JSON 테스트 2  - id 출력\n",
        "bbox_rooms = json_bbox['rooms']\n",
        "# print(bbox_rooms[0]['id'])\n",
        "for room in bbox_rooms:\n",
        "  print(\"id: \", room['id'])"
      ],
      "execution_count": 60,
      "outputs": [
        {
          "output_type": "stream",
          "text": [
            "5fade41ac5b1a6787838014a\n",
            "id:  5fade41ac5b1a6787838014a\n",
            "id:  5fa203285a844f7cf90eab5e\n",
            "id:  5fa2032d63960671c1dcbaf3\n",
            "id:  5f8e401dad6c533f00bb94fb\n",
            "id:  5f70a880cd818b5413169eee\n",
            "id:  5fade4112f7a697b088a15c9\n",
            "id:  5fade41f4a2fec7b08fc6e06\n",
            "id:  5fade421cf88e805823f5d80\n",
            "id:  5fade423f4668d317131a16d\n",
            "id:  5fade416333c044a8d4285cb\n",
            "id:  5f9000ff3449e31340dc8e33\n",
            "id:  5fade4299cff1e35037f5c7b\n",
            "id:  5fa20321d1807871c1e36248\n",
            "id:  5fade418b67101317135e0ac\n",
            "id:  5fade41d91e5020c8a4b8338\n",
            "id:  5fa8ac936ce1fc0a4105b863\n",
            "id:  5faa47366b8365322483b09f\n",
            "id:  5f9e17c8e22d33493b969121\n",
            "id:  5f979f7a89879048e05e8588\n",
            "id:  5f9b8bd20fa42b12198e5365\n",
            "id:  5faa00c1156c8e4c48a66651\n",
            "id:  5fa61d6ff392723c71a47069\n",
            "id:  5fa38d2404fb0c0afc1af1b6\n",
            "id:  5f9cfdb7815d4239a95f3c2f\n"
          ],
          "name": "stdout"
        }
      ]
    },
    {
      "cell_type": "code",
      "metadata": {
        "id": "Tx_3Ul27MqIu",
        "outputId": "99fbcc67-816a-473e-a3a1-b1d35d8dbc04",
        "colab": {
          "base_uri": "https://localhost:8080/"
        }
      },
      "source": [
        "'''\n",
        "  3. 분리된 bbox에서 얻은 방 정보에 대해 detail2 요청을 보내고 이후 얻어지는 정보를 파싱, 매물 데이터를 얻는다.\n",
        "  api_version=3.0.1&call_type=web&room_id=5fa8a2447da6c80411ae0c1f&use_map=kakao&version=1\n",
        "\n",
        "  url: https://www.dabangapp.com/api/3/room/detail2?\n",
        "  params:\n",
        "    'api_version' : '3.0.1'\n",
        "    'call_type' : 'web'\n",
        "    'room_id' : '5fa8a2447da6c80411ae0c1f'\n",
        "    'use_map' : 'kakao'\n",
        "    'version' : 1\n",
        "'''\n",
        "detail_url = 'https://www.dabangapp.com/api/3/room/detail2?'\n",
        "\n",
        "# param: room_id 변수\n",
        "idx_room = 0\n",
        "var_id = bbox_rooms[idx_room]['id']\n",
        "\n",
        "# params:\n",
        "detail_params = {'api_version':'3.0.1', 'call_type':'web', 'usemap': 'kakao', 'version':1, 'room_id': var_id}\n",
        "\n",
        "# query string\n",
        "request_detail = requests.get(detail_url, params=detail_params)\n",
        "json_detail = request_detail.json()\n",
        "print(json_detail)\n"
      ],
      "execution_count": 64,
      "outputs": [
        {
          "output_type": "stream",
          "text": [
            "{'is_messenger_sender_agented': False, 'ios_score_height': 542, 'agent': {'id': '5b18e8ba7eebe55ad0e5cfc3', 'email': 'nms456@hanmail.net', 'name': '드림공인중개사사무소', 'facename': '노명식', 'address': '서울특별시 관악구 남부순환로144길 66 1층 101호(신림동,하늘명가)', 'location': [126.91312245859, 37.4783833066279], 'reg_id': '11650-2018-00185', 'business_id': '112-79-00162', 'saved_time': '2018-06-07T08:11:37.735Z', 'active': True, 'is_primary': True, 'user_name': '노명식', 'user_phone': '01057357777', 'user_safe_phone': '050432305796', 'user_tel': None, 'users_idx': 1733199, 'sub_emails': ['whrodzg@hanmail.net', 'jby981004@nate.com', 'flyhigh2030s@gmail.com', 'qkrwlsdn88@naver.com', 'hdskoko@naver.com', '8514021@naver.com', 'cjstkwnsxod1@naver.com', 'gmlwls11@naver.com', 'dnjrkfm22@naver.com', 'morning2@naver.com', 'scqudxo@naver.com', 'lsd4845@nate.com', 'yhw0305@naver.com', '-chohee-@hanmail.net'], 'is_premium': False, 'review_best_count': 58, 'review_count': 62, 'is_messenger_actived': False, 'profile_url': 'https://dabang-prod-profile-image.s3.amazonaws.com/82c873c29ce00b5d6ce8c171ea3d6513', 'message': '[매물번호:16172100] 다방 보고 연락드립니다. http://redirect.dabangapp.com/jcyQ', 'since': '18.06.07', 'is_awards': False, 'is_verify_agent_tel': True, 'emails': ['nms456@hanmail.net', 'whrodzg@hanmail.net', 'jby981004@nate.com', 'flyhigh2030s@gmail.com', 'qkrwlsdn88@naver.com', 'hdskoko@naver.com', '8514021@naver.com', 'cjstkwnsxod1@naver.com', 'gmlwls11@naver.com', 'dnjrkfm22@naver.com', 'morning2@naver.com', 'scqudxo@naver.com', 'lsd4845@nate.com', 'yhw0305@naver.com', '-chohee-@hanmail.net'], 'role_type': '대표공인중개사', 'agent_tel': '010-5735-7777'}, 'is_consultation_actived': True, 'is_consultation_receipted': False, 'detail_shop': {'use': False, 'link': 'http://dabangshop.com/m2/'}, 'bubble_image': None, 'is_consultation_sender_agented': False, 'room': {'is_favorited': None, 'favorited_count': 0, 'seq': 16172100, 'id': '5fade41ac5b1a6787838014a', 'user_id': 'whrodzg@hanmail.net', 'status': 1, 'title': '신도림 NO.1 아파트뷰 1.5룸 7평이상 전속물건 말이필요없어요', 'memo': ' !!!!압도적인 방 컨디션과 압도적인 가격이니 고민 하지마시고  얼른문의주세요!!!!\\n? 교통 및 위치\\n: 2,호선 신도림역 도보 5분!!\\n\\n? 가격\\n: 반전세 보증금 1억2천이상 / 10(보증금 협의)\\n전세ㄷh출도가능\\n? 관ㄹ비\\n: 8만 전기 가스 수도 별도  \\n: 개별 , 인터넷 tv 올포함\\n\\n? 주차시설\\n: 0만원 (협의) \\n\\n? 보안\\n: 바로앞 4차선 대로변, 지하철 역세권.\\n: 건물 내외부 CCTV, 1층 및 현관 도어락 설치.\\n\\n? 편의시설\\n: 도보1분이내 편의점,식당,카페,각종병원.\\n: 도보10분이내 타임스퀘어,이마트,백화점,은행 등\\n: 테크노마트,신도림먹자골목,디큐브시티 \\n- 지하철5분 1.2호선 신도림역\\n\\n? 특이사항\\n- 꿀 매물~!,신축 실7평이상 역대급 물건입니다.\\n- 보증금조절로 월세 얼마든지 맞출 수 있습니다.\\n- 전/월세 모두 가능합니다.', 'private_memo': None, 'room_type': 0, 'maintenance_option': 0, 'room_size': 23.14, 'provision_size': 23.14, 'pano': None, 'moving_date': '2020.12.15', 'card': False, 'photos': ['08d8ecb2-531f-4786-8b67-ba1670f0bc1b', 'ea1d2520-1ee5-4867-9646-e17739ba80f7', 'e12f97ad-52f5-4df9-a48a-7eda4d6a14ee', '9818b9e2-ce9d-49ab-985b-8d3167d46ab0', '34579959-bf89-483b-82ca-01642b0ef58e', '5c2f6637-a5eb-47cb-896c-df60fa7d646f', 'a5b88c5d-d9e2-4852-bd33-f44c4663199a', '700b0609-6246-45eb-8697-4e8832204c39', '15f90b20-48a9-4c12-bb99-65f19dda317f'], 'photo': [{'key': '08d8ecb2-531f-4786-8b67-ba1670f0bc1b', 'desc': ''}, {'key': 'ea1d2520-1ee5-4867-9646-e17739ba80f7', 'desc': ''}, {'key': 'e12f97ad-52f5-4df9-a48a-7eda4d6a14ee', 'desc': ''}, {'key': '9818b9e2-ce9d-49ab-985b-8d3167d46ab0', 'desc': ''}, {'key': '34579959-bf89-483b-82ca-01642b0ef58e', 'desc': ''}, {'key': '5c2f6637-a5eb-47cb-896c-df60fa7d646f', 'desc': ''}, {'key': 'a5b88c5d-d9e2-4852-bd33-f44c4663199a', 'desc': ''}, {'key': '700b0609-6246-45eb-8697-4e8832204c39', 'desc': ''}, {'key': '15f90b20-48a9-4c12-bb99-65f19dda317f', 'desc': ''}], 'price_info': [[14000, 0, 1]], 'address': '서울특별시 영등포구 대림동', 'location': [126.8967870879152, 37.5053309985632], 'random_location': [126.89685162265677, 37.50526500037477], 'shorten_url': 'http://redirect.dabangapp.com/jcyQ', 'agent_id': '5b18e8ba7eebe55ad0e5cfc3', 'division': True, 'duplex': False, 'full_option': True, 'complex_id': None, 'dong': None, 'ho': '404', 'contract_size': None, 'enter_date': None, 'saved_time_str': '2020.11.13', 'is_lately': True, 'lately_time_str': '2020.11.13', 'room_type_str': '원룸(주방 분리형(1.5룸))', 'room_type_main_str': '원룸(분리형)', 'maintenance_items_str': ['청소비', '승강기유지비', '수선유지비', '인터넷', '유선 TV', '기타'], 'heating': '개별난방', 'room_floor_str': '4층', 'building_floor_str': '6층', 'maintenance_cost_str': '8만 원', 'full_options': ['에어컨', '세탁기', '냉장고'], 'etc_options': ['책상', '옷장', '신발장', '인덕션', '전자레인지', '전자도어락'], 'price_hash_tags': ['#주차가능'], 'option_hash_tags': ['#풀옵션'], 'detail_hash_tags': ['#엘리베이터', '#전세자금대출'], 'hash_tags': ['주차가능', '풀옵션', '엘리베이터', '전세자금대출', '보안/안전'], 'price_title': '1억4000', 'price_info_str': [['1억4000', '0']], 'animal_str': '불가능', 'parking_str': '5만 원', 'elevator_str': '있음', 'loan_str': '가능', 'built_in_str': '아님', 'balcony_str': '없음', 'duplex_str': None, 'division_str': '분리형', 'short_lease_str': '불가능', 'is_show': True, 'is_show_new': True, 'is_confirm': True, 'confirm_type': 0, 'confirm_date_str': '20.11.13', 'is_quick': None, 'selling_type': 1, 'month_total_str': '관리비 + 주차비', 'month_total_cost_str': '13만 원', 'building_use': None, 'deungbon_summary': None, 'beds_num': 1, 'bath_num': 1, 'show_watermark': False, 'is_detached_house': True, 'is_direct': False, 'is_primary_approval': False, 'full_jibun_address_str': '서울특별시 영등포구 대림동', 'full_road_address_str': None, 'full_jibun_address2_str': '서울특별시 영등포구 대림동 604-172', 'full_road_address2_str': '서울특별시 영등포구 도신로9길 5', 'direction_str': '남서', 'parking_num': 1, 'parking_average': 1.0, 'building_use_types_str': ['단독주택'], 'building_approval_type_str': '사용승인일', 'building_approval_date_str': '2018.11.16', 'personal_maintenance_items_str': ['난방비', '전기료', '가스사용료'], 'is_maintenance_cost_str_month_prefix': True, 'is_show_detail_address': False, 'is_toggle_detail_address': True, 'is_bubble_cluster_map': False, 'is_new_construction': False, 'room_options': [{'seq': 0, 'name': '에어컨'}, {'seq': 1, 'name': '세탁기'}, {'seq': 3, 'name': '책상'}, {'seq': 4, 'name': '옷장'}, {'seq': 6, 'name': '신발장'}, {'seq': 7, 'name': '냉장고'}, {'seq': 9, 'name': '인덕션'}, {'seq': 10, 'name': '전자레인지'}, {'seq': 11, 'name': '전자도어락'}], 'safeties': [{'seq': 0, 'name': '비디오폰'}, {'seq': 1, 'name': '공동현관'}, {'seq': 3, 'name': 'CCTV'}, {'seq': 4, 'name': '방범창'}, {'seq': 5, 'name': '인터폰'}, {'seq': 7, 'name': '화재경보기'}]}, 'is_messenger_actived': True, 'score': None, 'review': {'review_count_good': 58, 'reviews': [{'id': 36694, 'room_id': '5ef1b0f3d5e7d21d089f7e7a', 'agent_id': '5b18e8ba7eebe55ad0e5cfc3', 'review_text': '여기 부동산은 문 닫앗나요?? 아무도 연락을 안 받는거 같은데', 'user_id': 'ka**********@g****.com', 'grade': 3, 'has_comment': True, 'agent_name': '드림공인중개사사무소', 'comment_user_id': '979665@dabangapp.com', 'comment_text': '안녕하세요 샾공인중개사사무소입니다~^^ 죄송합니다 지금 해당매물 과장님이 몸이 안좋으신 상황이라서 갑작스럽게 휴무중이셔서 연락이 안되었나 보네요 ㅠㅠ  불편드려 정말 죄송합니다. ', 'comment_position': '', 'comment_user_name': '삭제된 계정', 'comment_is_primary': None, 'comment_role_type': None, 'saved_time': '2020-07-09T00:27:20.848Z', 'edited_time': '2020-07-09T00:27:20.848Z', 'comment_saved_time': '2020-07-09T07:27:58.821Z', 'seq': None, 'user_active': True, 'agent_profile_url': 'https://dabang-prod-profile-image.s3.amazonaws.com/288246466d5721a4e79576d31bf559b5', 'user_profile_url': 'https://dabang-prod-profile-image.s3.amazonaws.com/e47d9fcaf82186559f5441504d049b58'}], 'review_count': 62}, 'is_messenger_receipted': False, 'contact': {'sms_number': '01073738900', 'sms_message': '다방에서 확인한 매물에 대해 상담 받고 싶습니다. (매물번호: 16172100)', 'call_number': '050413938357', 'show_number': '050413938357'}, 'other_rooms': [{'is_favorited': None, 'seq': 15994473, 'id': '5fa203285a844f7cf90eab5e', 'user_id': 'morning2@naver.com', 'status': 1, 'deleted': False, 'name': '오기원', 'title': '신축월세 미친 컨디션 미친가격  이런 매물은 없었습니다  신축실평6평 신도림역5분 얼른가져가세요', 'room_type': 0, 'location': [126.896870842583, 37.5055322661041], 'random_location': [126.89702756616758, 37.50557291776084], 'complex_name': None, 'premium_badge': None, 'hash_tags': ['주차', '풀옵션', '빌트인', '엘리베이터', '전세자금대출', '보안/안전'], 'room_type_str': '원룸', 'room_desc': '원룸 | 반지층 | 19.82m² | 관리비 7만', 'img_url': 'http://d1774jszgerdmk.cloudfront.net/512/32416318-152a-4a45-a8a9-3399b00f9913', 'img_urls': ['http://d1774jszgerdmk.cloudfront.net/512/32416318-152a-4a45-a8a9-3399b00f9913', 'http://d1774jszgerdmk.cloudfront.net/512/aebda4aa-96ea-4a00-8cdb-79b1a95092ec', 'http://d1774jszgerdmk.cloudfront.net/512/b790a85c-d318-47cb-b277-2a125ad20262', 'http://d1774jszgerdmk.cloudfront.net/512/79380c77-41ea-4fa3-a85f-0b420f8b0607', 'http://d1774jszgerdmk.cloudfront.net/512/f5bbc92e-37de-4b88-9612-939001225643'], 'is_pano': False, 'price_title': '500/40', 'selling_type': 0, 'is_confirm': True, 'confirm_type': 0, 'confirm_date_str': '20.11.05', 'is_quick': False, 'is_messenger_actived': False, 'is_extend_ui': False, 'is_new_construction': False}, {'is_favorited': None, 'seq': 15821822, 'id': '5f9502a077ebd83b8b8b7694', 'user_id': 'morning2@naver.com', 'status': 1, 'deleted': False, 'name': '오기원', 'title': '허위매물노우 실매물 믿음중개 책임중개 신도림역5분 실6평', 'room_type': 0, 'location': [126.9021373134, 37.5065212746], 'random_location': [126.90203864828267, 37.50649680396507], 'complex_name': None, 'premium_badge': None, 'hash_tags': ['주차', '반려동물', '풀옵션', '빌트인', '엘리베이터', '발코니', '전세자금대출', '보안/안전'], 'room_type_str': '원룸', 'room_desc': '원룸 | 1층 | 19.82m² | 관리비 3만', 'img_url': 'http://d1774jszgerdmk.cloudfront.net/512/f2cf349e-4150-4a86-b2e1-91897d1d81eb-2', 'img_urls': ['http://d1774jszgerdmk.cloudfront.net/512/f2cf349e-4150-4a86-b2e1-91897d1d81eb-2', 'http://d1774jszgerdmk.cloudfront.net/512/2b16f346-be03-40ae-aa34-f48729e87a9d-2', 'http://d1774jszgerdmk.cloudfront.net/512/499f3fe8-0cdb-4920-81db-536b4d9d690e-2', 'http://d1774jszgerdmk.cloudfront.net/512/9f44f978-ce30-47c0-a8b3-34425a11e764-2', 'http://d1774jszgerdmk.cloudfront.net/512/fafb0304-d967-4aae-a82e-0e906cfdb0f0-2'], 'is_pano': False, 'price_title': '300/30', 'selling_type': 0, 'is_confirm': False, 'confirm_type': None, 'confirm_date_str': '', 'is_quick': False, 'is_messenger_actived': False, 'is_extend_ui': False, 'is_new_construction': False}, {'is_favorited': None, 'seq': 15870429, 'id': '5f9813ccf826c4441c6275ab', 'user_id': 'yhw0305@naver.com', 'status': 1, 'deleted': False, 'name': '양현우', 'title': '보증보험 가능 구디역 10분15분 신축 첫입주 2룸 시스템 에어컨에 시스템 공기청정기 까지. 매매도 가능', 'room_type': 1, 'location': [126.90116663543472, 37.4809931437356], 'random_location': [126.90125075571515, 37.48095299424886], 'complex_name': None, 'premium_badge': None, 'hash_tags': ['주차', '반려동물', '빌트인', '엘리베이터', '발코니', '전세자금대출', '보안/안전'], 'room_type_str': '투룸', 'room_desc': '투룸 | 6층 | 59.5m²', 'img_url': 'http://d1774jszgerdmk.cloudfront.net/512/bb562caf-0164-41cc-8c38-7c08a957c264', 'img_urls': ['http://d1774jszgerdmk.cloudfront.net/512/bb562caf-0164-41cc-8c38-7c08a957c264', 'http://d1774jszgerdmk.cloudfront.net/512/4c46a93b-7469-45cb-a0ee-39770ba5c462', 'http://d1774jszgerdmk.cloudfront.net/512/a49b03ae-836a-4ec4-8250-202ccaa2bf54', 'http://d1774jszgerdmk.cloudfront.net/512/16506879-fb1d-43ac-b6e4-a09f9a6b594e', 'http://d1774jszgerdmk.cloudfront.net/512/b7c0d00c-7804-4e61-b9ec-a5a3cb85a891'], 'is_pano': False, 'price_title': '2억6500', 'selling_type': 1, 'is_confirm': False, 'confirm_type': None, 'confirm_date_str': '', 'is_quick': False, 'is_messenger_actived': False, 'is_extend_ui': False, 'is_new_construction': False}, {'is_favorited': None, 'seq': 16067369, 'id': '5fa62c05ed6be0541893d247', 'user_id': 'dnjrkfm22@naver.com', 'status': 1, 'deleted': False, 'name': '박용안', 'title': '100프로 실매물 인증 봉천역 초 역세권 신축급 원룸입니다', 'room_type': 0, 'location': [126.93638126853497, 37.488200190898404], 'random_location': [126.93629623969902, 37.48821842081098], 'complex_name': None, 'premium_badge': None, 'hash_tags': ['풀옵션', '보안/안전'], 'room_type_str': '원룸', 'room_desc': '원룸 | 2층 | 23.14m² | 관리비 9만', 'img_url': 'http://d1774jszgerdmk.cloudfront.net/512/36869675-966b-497d-82b9-523db63b878f', 'img_urls': ['http://d1774jszgerdmk.cloudfront.net/512/36869675-966b-497d-82b9-523db63b878f', 'http://d1774jszgerdmk.cloudfront.net/512/b6a15a3f-28b2-4d0b-8175-705489e2034c', 'http://d1774jszgerdmk.cloudfront.net/512/124157d7-fac5-48d4-ba50-dbc610123155', 'http://d1774jszgerdmk.cloudfront.net/512/c84458d2-a448-46d3-a289-857bd5ae0db5', 'http://d1774jszgerdmk.cloudfront.net/512/819ce8b4-9ab6-49a3-835c-f67036e2c1d1'], 'is_pano': False, 'price_title': '1000/28', 'selling_type': 0, 'is_confirm': True, 'confirm_type': 0, 'confirm_date_str': '20.11.07', 'is_quick': False, 'is_messenger_actived': False, 'is_extend_ui': False, 'is_new_construction': False}, {'is_favorited': None, 'seq': 15994475, 'id': '5fa2032d63960671c1dcbaf3', 'user_id': 'morning2@naver.com', 'status': 1, 'deleted': False, 'name': '오기원', 'title': '허위매물은 이제제발그만  크다커 신도림역 도보5분  깔끔신축원룸  예쁜집 얼른가져가세요', 'room_type': 0, 'location': [126.896870842583, 37.5055322661041], 'random_location': [126.89702756616758, 37.50557291776084], 'complex_name': None, 'premium_badge': None, 'hash_tags': ['분리형', '주차', '풀옵션', '빌트인', '엘리베이터', '전세자금대출', '보안/안전'], 'room_type_str': '원룸', 'room_desc': '원룸 | 1층 | 23.14m² | 관리비 7만', 'img_url': 'http://d1774jszgerdmk.cloudfront.net/512/011b62bc-e1e0-4378-a148-87614763b661', 'img_urls': ['http://d1774jszgerdmk.cloudfront.net/512/011b62bc-e1e0-4378-a148-87614763b661', 'http://d1774jszgerdmk.cloudfront.net/512/29dd9cec-6ae5-490e-99c3-8a892a1659c8', 'http://d1774jszgerdmk.cloudfront.net/512/84b49fa6-4a64-497f-b629-0ac72817660b', 'http://d1774jszgerdmk.cloudfront.net/512/c8c97fcc-68aa-46b1-b1a1-94a8626122b2', 'http://d1774jszgerdmk.cloudfront.net/512/c3d6c469-a04f-44d9-aba7-1a197d4d55e9'], 'is_pano': False, 'price_title': '1억', 'selling_type': 1, 'is_confirm': True, 'confirm_type': 0, 'confirm_date_str': '20.11.05', 'is_quick': False, 'is_messenger_actived': False, 'is_extend_ui': False, 'is_new_construction': False}, {'is_favorited': None, 'seq': 16080515, 'id': '5fa896d8d036a055db9fd16d', 'user_id': 'lsd4845@nate.com', 'status': 1, 'deleted': False, 'name': '이상동', 'title': '붙박이장 드레스룸과 벽걸이tv옵션 있는 층고높은 하우스', 'room_type': 2, 'location': [127.17206027227185, 37.35046703014991], 'random_location': [127.17204514641573, 37.35039914106067], 'complex_name': None, 'premium_badge': None, 'hash_tags': ['주차', '반려동물', '빌트인', '발코니', '전세자금대출', '보안/안전'], 'room_type_str': '쓰리룸', 'room_desc': '쓰리룸 | 4층 | 79.33m²', 'img_url': 'http://d1774jszgerdmk.cloudfront.net/512/21194eb5-5060-4922-828b-b670e90f1cc5', 'img_urls': ['http://d1774jszgerdmk.cloudfront.net/512/21194eb5-5060-4922-828b-b670e90f1cc5', 'http://d1774jszgerdmk.cloudfront.net/512/ebccc85b-43e4-4a5e-90e9-1d315b46cc15', 'http://d1774jszgerdmk.cloudfront.net/512/207c2488-ba46-4f52-97ae-1b64e3e7ba06', 'http://d1774jszgerdmk.cloudfront.net/512/4519fc84-32d1-486f-9786-ae17476d2562', 'http://d1774jszgerdmk.cloudfront.net/512/68ad8cba-068f-4885-a657-3d59ef1d025d'], 'is_pano': False, 'price_title': '2억2500', 'selling_type': 1, 'is_confirm': False, 'confirm_type': None, 'confirm_date_str': '', 'is_quick': False, 'is_messenger_actived': False, 'is_extend_ui': False, 'is_new_construction': False}, {'is_favorited': None, 'seq': 15693309, 'id': '5f8e401dad6c533f00bb94fb', 'user_id': 'morning2@naver.com', 'status': 1, 'deleted': False, 'name': '오기원', 'title': '책임중개 허위아닌 절대적실매물 역세권 대로변사이즈 굿 신도림역5분 말되안되는 가 격 이 죠 깨끗하신방찾으시면  연락주세요', 'room_type': 0, 'location': [126.8978146271, 37.5048813894], 'random_location': [126.89791345045305, 37.50488593889436], 'complex_name': None, 'premium_badge': None, 'hash_tags': ['주차', '풀옵션', '빌트인', '엘리베이터', '발코니', '보안/안전'], 'room_type_str': '원룸', 'room_desc': '원룸 | 3층 | 23.14m² | 관리비 6만', 'img_url': 'http://d1774jszgerdmk.cloudfront.net/512/d30a5d42-ff26-49a5-9e13-25c6ecaf17cd', 'img_urls': ['http://d1774jszgerdmk.cloudfront.net/512/d30a5d42-ff26-49a5-9e13-25c6ecaf17cd', 'http://d1774jszgerdmk.cloudfront.net/512/53ff02a8-a671-40d7-bc18-5ab9b24992dc', 'http://d1774jszgerdmk.cloudfront.net/512/6cf184c8-17b5-4f6c-aa53-f8d6d8d73483', 'http://d1774jszgerdmk.cloudfront.net/512/469a2ecb-740d-414b-8873-ed301859fbf5', 'http://d1774jszgerdmk.cloudfront.net/512/06371a45-43ec-4f40-baf5-f40e02d773ed'], 'is_pano': False, 'price_title': '7000', 'selling_type': 1, 'is_confirm': True, 'confirm_type': 0, 'confirm_date_str': '20.11.13', 'is_quick': False, 'is_messenger_actived': False, 'is_extend_ui': False, 'is_new_construction': False}, {'is_favorited': None, 'seq': 15360081, 'id': '5f70a880cd818b5413169eee', 'user_id': 'morning2@naver.com', 'status': 1, 'deleted': False, 'name': '오기원', 'title': '완전대박  절대적인 신축실매물원룸 얼른 가져가세요 신도림역세권 미친사이즈 보증금조절O미친채광O', 'room_type': 0, 'location': [126.896870842583, 37.5055322661041], 'random_location': [126.89702756616758, 37.50557291776084], 'complex_name': None, 'premium_badge': None, 'hash_tags': ['분리형', '주차', '풀옵션', '빌트인', '엘리베이터', '전세자금대출', '보안/안전'], 'room_type_str': '원룸', 'room_desc': '원룸 | 1층 | 23.14m² | 관리비 6만', 'img_url': 'http://d1774jszgerdmk.cloudfront.net/512/5f7c8090-4078-4734-9cb9-2bd4bea25f31', 'img_urls': ['http://d1774jszgerdmk.cloudfront.net/512/5f7c8090-4078-4734-9cb9-2bd4bea25f31', 'http://d1774jszgerdmk.cloudfront.net/512/493e79dd-7950-4d53-a27e-3f10b7c06797', 'http://d1774jszgerdmk.cloudfront.net/512/146b1618-5ec9-444d-b1ea-59281cc13d1c', 'http://d1774jszgerdmk.cloudfront.net/512/50cfb979-3507-45af-9d79-254151b34318', 'http://d1774jszgerdmk.cloudfront.net/512/06632b0d-7fbe-4593-9d65-9fede3ab7ffb'], 'is_pano': False, 'price_title': '3000/35', 'selling_type': 0, 'is_confirm': True, 'confirm_type': 0, 'confirm_date_str': '20.11.13', 'is_quick': False, 'is_messenger_actived': False, 'is_extend_ui': False, 'is_new_construction': False}, {'is_favorited': None, 'seq': 15766054, 'id': '5f915f21e94fa828e7ec8ccc', 'user_id': 'dnjrkfm22@naver.com', 'status': 1, 'deleted': False, 'name': '박용안', 'title': '신대방역 초 역세권 전세원룸 가성비 끝판왕', 'room_type': 0, 'location': [126.91254172906174, 37.48387452645764], 'random_location': [126.91261788271245, 37.48385176527731], 'complex_name': None, 'premium_badge': None, 'hash_tags': ['주차', '풀옵션', '보안/안전'], 'room_type_str': '원룸', 'room_desc': '원룸 | 저층 | 19.82m² | 관리비 10만', 'img_url': 'http://d1774jszgerdmk.cloudfront.net/512/3bb1808e-bba5-4596-8070-ba433c65084c', 'img_urls': ['http://d1774jszgerdmk.cloudfront.net/512/3bb1808e-bba5-4596-8070-ba433c65084c', 'http://d1774jszgerdmk.cloudfront.net/512/9d46aa61-bc26-43e9-b95e-15fb5df3813b', 'http://d1774jszgerdmk.cloudfront.net/512/6ee41d39-a290-4ac8-a282-c483a81cf4b5', 'http://d1774jszgerdmk.cloudfront.net/512/32986ff2-2443-4e84-afbb-a2b530884154', 'http://d1774jszgerdmk.cloudfront.net/512/da7ccb84-f75a-44c4-972d-3f7e5a7e0daa'], 'is_pano': False, 'price_title': '3000', 'selling_type': 1, 'is_confirm': True, 'confirm_type': 0, 'confirm_date_str': '20.11.06', 'is_quick': False, 'is_messenger_actived': False, 'is_extend_ui': False, 'is_new_construction': False}, {'is_favorited': None, 'seq': 16172088, 'id': '5fade4112f7a697b088a15c9', 'user_id': 'whrodzg@hanmail.net', 'status': 1, 'deleted': False, 'name': '조경연', 'title': '핸드폰사진 신도림 완전대로변 리모델링방 금액대비 NO.1 허위믿지마세요 반전세가능', 'room_type': 0, 'location': [126.8978146271, 37.5048813894], 'random_location': [126.89791345045305, 37.50488593889436], 'complex_name': None, 'premium_badge': None, 'hash_tags': ['분리형', '주차', '풀옵션', '엘리베이터', '보안/안전'], 'room_type_str': '원룸', 'room_desc': '원룸 | 2층 | 23.14m² | 관리비 7만', 'img_url': 'http://d1774jszgerdmk.cloudfront.net/512/e93d2507-cadc-4b53-bc4d-12cafe79c8bd', 'img_urls': ['http://d1774jszgerdmk.cloudfront.net/512/e93d2507-cadc-4b53-bc4d-12cafe79c8bd', 'http://d1774jszgerdmk.cloudfront.net/512/940c69d2-132b-4e00-8e9a-6c54a83e2a95', 'http://d1774jszgerdmk.cloudfront.net/512/a2173858-f1d0-432e-87e8-5163a3a43ba2', 'http://d1774jszgerdmk.cloudfront.net/512/3c6e7773-c6b3-4de1-abb2-4f668dc0f3ed', 'http://d1774jszgerdmk.cloudfront.net/512/7f9448e2-85be-4d9a-af01-e203774ed1d6'], 'is_pano': False, 'price_title': '7000', 'selling_type': 1, 'is_confirm': True, 'confirm_type': 0, 'confirm_date_str': '20.11.13', 'is_quick': False, 'is_messenger_actived': True, 'is_extend_ui': False, 'is_new_construction': False}], 'shinhanbank': {'deposit': 14000, 'location': 0}, 'messenger_send_alimtalk_contents': '* 계약 가능 여부는 최대 48시간 이내에 확인하여 카카오 알림톡으로 알려드립니다.', 'user': {'idx': 1786910, 'email': 'whrodzg@hanmail.net', 'name': '조경연', 'active': True, 'inquery_phone': None, 'phone': '01073738900', 'tel': None, 'safe_phone': '050413938357', 'yellow_id': None, 'is_subscribe': None, 'position': None, 'profile_url': 'https://dabang-prod-profile-image.s3.amazonaws.com/7831c75243641bef92dd7108f04db296', 'message': '[매물번호:16172100] 다방 보고 연락드립니다. http://redirect.dabangapp.com/jcyQ', 'role_type': '중개인'}, 'messenger_bubble_contents': '다방에서 문의해드릴께요!'}\n"
          ],
          "name": "stdout"
        }
      ]
    },
    {
      "cell_type": "code",
      "metadata": {
        "id": "mSRYjQ-H860s",
        "outputId": "60c94c35-844a-4d8d-9c46-adec886bc03d",
        "colab": {
          "base_uri": "https://localhost:8080/"
        }
      },
      "source": [
        "# detail JSON 테스트 1  - 필드 출력\n",
        "detail_field = list()\n",
        "for i in json_detail:\n",
        "  detail_field.append(i)\n",
        "print(detail_field)"
      ],
      "execution_count": 70,
      "outputs": [
        {
          "output_type": "stream",
          "text": [
            "['is_messenger_sender_agented', 'ios_score_height', 'agent', 'is_consultation_actived', 'is_consultation_receipted', 'detail_shop', 'bubble_image', 'is_consultation_sender_agented', 'room', 'is_messenger_actived', 'score', 'review', 'is_messenger_receipted', 'contact', 'other_rooms', 'shinhanbank', 'messenger_send_alimtalk_contents', 'user', 'messenger_bubble_contents']\n"
          ],
          "name": "stdout"
        }
      ]
    },
    {
      "cell_type": "code",
      "metadata": {
        "id": "c_jjkyVoAbt4",
        "outputId": "e70f3518-668c-454e-d1e3-691cbbc3d35f",
        "colab": {
          "base_uri": "https://localhost:8080/"
        }
      },
      "source": [
        "# detail JSON 테스트 2 - 방 상세 정보 출력(room_info)\n",
        "room_info = json_detail['room']\n",
        "for i in room_detail:\n",
        "  print(i,\": \", room_detail[i])"
      ],
      "execution_count": 75,
      "outputs": [
        {
          "output_type": "stream",
          "text": [
            "is_favorited :  None\n",
            "favorited_count :  0\n",
            "seq :  16172100\n",
            "id :  5fade41ac5b1a6787838014a\n",
            "user_id :  whrodzg@hanmail.net\n",
            "status :  1\n",
            "title :  신도림 NO.1 아파트뷰 1.5룸 7평이상 전속물건 말이필요없어요\n",
            "memo :   !!!!압도적인 방 컨디션과 압도적인 가격이니 고민 하지마시고  얼른문의주세요!!!!\n",
            "? 교통 및 위치\n",
            ": 2,호선 신도림역 도보 5분!!\n",
            "\n",
            "? 가격\n",
            ": 반전세 보증금 1억2천이상 / 10(보증금 협의)\n",
            "전세ㄷh출도가능\n",
            "? 관ㄹ비\n",
            ": 8만 전기 가스 수도 별도  \n",
            ": 개별 , 인터넷 tv 올포함\n",
            "\n",
            "? 주차시설\n",
            ": 0만원 (협의) \n",
            "\n",
            "? 보안\n",
            ": 바로앞 4차선 대로변, 지하철 역세권.\n",
            ": 건물 내외부 CCTV, 1층 및 현관 도어락 설치.\n",
            "\n",
            "? 편의시설\n",
            ": 도보1분이내 편의점,식당,카페,각종병원.\n",
            ": 도보10분이내 타임스퀘어,이마트,백화점,은행 등\n",
            ": 테크노마트,신도림먹자골목,디큐브시티 \n",
            "- 지하철5분 1.2호선 신도림역\n",
            "\n",
            "? 특이사항\n",
            "- 꿀 매물~!,신축 실7평이상 역대급 물건입니다.\n",
            "- 보증금조절로 월세 얼마든지 맞출 수 있습니다.\n",
            "- 전/월세 모두 가능합니다.\n",
            "private_memo :  None\n",
            "room_type :  0\n",
            "maintenance_option :  0\n",
            "room_size :  23.14\n",
            "provision_size :  23.14\n",
            "pano :  None\n",
            "moving_date :  2020.12.15\n",
            "card :  False\n",
            "photos :  ['08d8ecb2-531f-4786-8b67-ba1670f0bc1b', 'ea1d2520-1ee5-4867-9646-e17739ba80f7', 'e12f97ad-52f5-4df9-a48a-7eda4d6a14ee', '9818b9e2-ce9d-49ab-985b-8d3167d46ab0', '34579959-bf89-483b-82ca-01642b0ef58e', '5c2f6637-a5eb-47cb-896c-df60fa7d646f', 'a5b88c5d-d9e2-4852-bd33-f44c4663199a', '700b0609-6246-45eb-8697-4e8832204c39', '15f90b20-48a9-4c12-bb99-65f19dda317f']\n",
            "photo :  [{'key': '08d8ecb2-531f-4786-8b67-ba1670f0bc1b', 'desc': ''}, {'key': 'ea1d2520-1ee5-4867-9646-e17739ba80f7', 'desc': ''}, {'key': 'e12f97ad-52f5-4df9-a48a-7eda4d6a14ee', 'desc': ''}, {'key': '9818b9e2-ce9d-49ab-985b-8d3167d46ab0', 'desc': ''}, {'key': '34579959-bf89-483b-82ca-01642b0ef58e', 'desc': ''}, {'key': '5c2f6637-a5eb-47cb-896c-df60fa7d646f', 'desc': ''}, {'key': 'a5b88c5d-d9e2-4852-bd33-f44c4663199a', 'desc': ''}, {'key': '700b0609-6246-45eb-8697-4e8832204c39', 'desc': ''}, {'key': '15f90b20-48a9-4c12-bb99-65f19dda317f', 'desc': ''}]\n",
            "price_info :  [[14000, 0, 1]]\n",
            "address :  서울특별시 영등포구 대림동\n",
            "location :  [126.8967870879152, 37.5053309985632]\n",
            "random_location :  [126.89685162265677, 37.50526500037477]\n",
            "shorten_url :  http://redirect.dabangapp.com/jcyQ\n",
            "agent_id :  5b18e8ba7eebe55ad0e5cfc3\n",
            "division :  True\n",
            "duplex :  False\n",
            "full_option :  True\n",
            "complex_id :  None\n",
            "dong :  None\n",
            "ho :  404\n",
            "contract_size :  None\n",
            "enter_date :  None\n",
            "saved_time_str :  2020.11.13\n",
            "is_lately :  True\n",
            "lately_time_str :  2020.11.13\n",
            "room_type_str :  원룸(주방 분리형(1.5룸))\n",
            "room_type_main_str :  원룸(분리형)\n",
            "maintenance_items_str :  ['청소비', '승강기유지비', '수선유지비', '인터넷', '유선 TV', '기타']\n",
            "heating :  개별난방\n",
            "room_floor_str :  4층\n",
            "building_floor_str :  6층\n",
            "maintenance_cost_str :  8만 원\n",
            "full_options :  ['에어컨', '세탁기', '냉장고']\n",
            "etc_options :  ['책상', '옷장', '신발장', '인덕션', '전자레인지', '전자도어락']\n",
            "price_hash_tags :  ['#주차가능']\n",
            "option_hash_tags :  ['#풀옵션']\n",
            "detail_hash_tags :  ['#엘리베이터', '#전세자금대출']\n",
            "hash_tags :  ['주차가능', '풀옵션', '엘리베이터', '전세자금대출', '보안/안전']\n",
            "price_title :  1억4000\n",
            "price_info_str :  [['1억4000', '0']]\n",
            "animal_str :  불가능\n",
            "parking_str :  5만 원\n",
            "elevator_str :  있음\n",
            "loan_str :  가능\n",
            "built_in_str :  아님\n",
            "balcony_str :  없음\n",
            "duplex_str :  None\n",
            "division_str :  분리형\n",
            "short_lease_str :  불가능\n",
            "is_show :  True\n",
            "is_show_new :  True\n",
            "is_confirm :  True\n",
            "confirm_type :  0\n",
            "confirm_date_str :  20.11.13\n",
            "is_quick :  None\n",
            "selling_type :  1\n",
            "month_total_str :  관리비 + 주차비\n",
            "month_total_cost_str :  13만 원\n",
            "building_use :  None\n",
            "deungbon_summary :  None\n",
            "beds_num :  1\n",
            "bath_num :  1\n",
            "show_watermark :  False\n",
            "is_detached_house :  True\n",
            "is_direct :  False\n",
            "is_primary_approval :  False\n",
            "full_jibun_address_str :  서울특별시 영등포구 대림동\n",
            "full_road_address_str :  None\n",
            "full_jibun_address2_str :  서울특별시 영등포구 대림동 604-172\n",
            "full_road_address2_str :  서울특별시 영등포구 도신로9길 5\n",
            "direction_str :  남서\n",
            "parking_num :  1\n",
            "parking_average :  1.0\n",
            "building_use_types_str :  ['단독주택']\n",
            "building_approval_type_str :  사용승인일\n",
            "building_approval_date_str :  2018.11.16\n",
            "personal_maintenance_items_str :  ['난방비', '전기료', '가스사용료']\n",
            "is_maintenance_cost_str_month_prefix :  True\n",
            "is_show_detail_address :  False\n",
            "is_toggle_detail_address :  True\n",
            "is_bubble_cluster_map :  False\n",
            "is_new_construction :  False\n",
            "room_options :  [{'seq': 0, 'name': '에어컨'}, {'seq': 1, 'name': '세탁기'}, {'seq': 3, 'name': '책상'}, {'seq': 4, 'name': '옷장'}, {'seq': 6, 'name': '신발장'}, {'seq': 7, 'name': '냉장고'}, {'seq': 9, 'name': '인덕션'}, {'seq': 10, 'name': '전자레인지'}, {'seq': 11, 'name': '전자도어락'}]\n",
            "safeties :  [{'seq': 0, 'name': '비디오폰'}, {'seq': 1, 'name': '공동현관'}, {'seq': 3, 'name': 'CCTV'}, {'seq': 4, 'name': '방범창'}, {'seq': 5, 'name': '인터폰'}, {'seq': 7, 'name': '화재경보기'}]\n"
          ],
          "name": "stdout"
        }
      ]
    }
  ]
}